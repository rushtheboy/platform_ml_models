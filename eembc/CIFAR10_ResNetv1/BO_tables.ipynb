{
 "cells": [
  {
   "cell_type": "code",
   "execution_count": 46,
   "metadata": {},
   "outputs": [
    {
     "name": "stdout",
     "output_type": "stream",
     "text": [
      "['trial_bf4d6d9c9f00b6634bfd067319762a55', 'trial_0023bcfe423e409e09065606d7253d55', 'trial_bff5307df1759d76783d463ad55810d4', 'trial_53fb67c8c975cc4eed7eee8ad69407b9', 'trial_8ff35d293e450310b6bd0be4872db145', 'trial_90c056b02ccb29b8931eeaf6f2ed8a86', 'trial_deee4496d0b8031c70e7b5651feb1479', 'trial_926423fc63ae58d02757ebd0ae1006e7', 'trial_c9c9051a179575dc23f6fb974afef890', 'trial_bd0f9b3b0f5740b2f1f0d3e8b037b938']\n"
     ]
    }
   ],
   "source": [
    "import os\n",
    "Path = \"bo_resnet_v1_eembc_10epoch_100maxtrials_lrdecay\"\n",
    "filelist = os.listdir(Path)\n",
    "result_files = []\n",
    "for i in filelist:\n",
    "    if \"trial\" in i:\n",
    "        result_files.append(i)\n",
    "        \n",
    "print(result_files)"
   ]
  },
  {
   "cell_type": "code",
   "execution_count": 47,
   "metadata": {},
   "outputs": [
    {
     "name": "stdout",
     "output_type": "stream",
     "text": [
      "{'trial_id': 'bf4d6d9c9f00b6634bfd067319762a55', 'hyperparameters': {'space': [{'class_name': 'Choice', 'config': {'name': 'filters0', 'default': 2, 'conditions': [], 'values': [2, 4, 8, 16], 'ordered': True}}, {'class_name': 'Choice', 'config': {'name': 'filters1', 'default': 4, 'conditions': [], 'values': [4, 8, 16, 32], 'ordered': True}}, {'class_name': 'Choice', 'config': {'name': 'filters2', 'default': 8, 'conditions': [], 'values': [8, 16, 32, 64], 'ordered': True}}, {'class_name': 'Choice', 'config': {'name': 'kernelsize0', 'default': 1, 'conditions': [], 'values': [1, 2, 3], 'ordered': True}}, {'class_name': 'Choice', 'config': {'name': 'kernelsize1', 'default': 1, 'conditions': [], 'values': [1, 2, 3], 'ordered': True}}, {'class_name': 'Choice', 'config': {'name': 'strides0', 'default': 1, 'conditions': [], 'values': [1, 4], 'ordered': True}}, {'class_name': 'Choice', 'config': {'name': 'strides1', 'default': 2, 'conditions': [], 'values': [2, 3, 4], 'ordered': True}}], 'values': {'filters0': 16, 'filters1': 32, 'filters2': 32, 'kernelsize0': 3, 'kernelsize1': 1, 'strides0': 1, 'strides1': 3}}, 'metrics': {'metrics': {'loss': {'direction': 'min', 'observations': [{'value': [1.6535688638687134], 'step': 0}]}, 'accuracy': {'direction': 'max', 'observations': [{'value': [0.6639800071716309], 'step': 0}]}, 'val_loss': {'direction': 'min', 'observations': [{'value': [1.5202455520629883], 'step': 0}]}, 'val_accuracy': {'direction': 'max', 'observations': [{'value': [0.6273999810218811], 'step': 0}]}, 'lr': {'direction': 'min', 'observations': [{'value': [0.0010000000474974513], 'step': 0}]}}}, 'score': 0.6273999810218811, 'best_step': 0, 'status': 'COMPLETED'}\n"
     ]
    }
   ],
   "source": [
    "import json\n",
    "\n",
    "json1_file = open(\"bo_resnet_v1_eembc_10epoch_100maxtrials_lrdecay/\" + result_files[0] + \"/trial.json\")\n",
    "json1_str = json1_file.read()\n",
    "json1_data = json.loads(json1_str)\n",
    "\n",
    "print(json1_data)"
   ]
  },
  {
   "cell_type": "code",
   "execution_count": 51,
   "metadata": {},
   "outputs": [
    {
     "name": "stdout",
     "output_type": "stream",
     "text": [
      "{'filters0': 16, 'filters1': 32, 'filters2': 32, 'kernelsize0': 3, 'kernelsize1': 1, 'strides0': 1, 'strides1': 3}\n"
     ]
    }
   ],
   "source": [
    "print(json1_data['hyperparameters']['values'])"
   ]
  },
  {
   "cell_type": "code",
   "execution_count": 63,
   "metadata": {},
   "outputs": [
    {
     "name": "stdout",
     "output_type": "stream",
     "text": [
      "VAL_LOSS {'direction': 'min', 'observations': [{'value': [1.5202455520629883], 'step': 0}]}\n",
      "VAL_ACC {'direction': 'max', 'observations': [{'value': [0.6273999810218811], 'step': 0}]}\n",
      "LOSS {'direction': 'min', 'observations': [{'value': [1.6535688638687134], 'step': 0}]}\n",
      "ACCURACY {'direction': 'max', 'observations': [{'value': [0.6639800071716309], 'step': 0}]}\n"
     ]
    }
   ],
   "source": [
    "print(\"VAL_LOSS\", json1_data['metrics']['metrics']['val_loss'])\n",
    "print(\"VAL_ACC\", json1_data['metrics']['metrics']['val_accuracy'])\n",
    "print(\"LOSS\", json1_data['metrics']['metrics']['loss'])\n",
    "print(\"ACCURACY\", json1_data['metrics']['metrics']['accuracy'])"
   ]
  },
  {
   "cell_type": "code",
   "execution_count": 62,
   "metadata": {},
   "outputs": [
    {
     "ename": "KeyError",
     "evalue": "'loss'",
     "output_type": "error",
     "traceback": [
      "\u001b[0;31m---------------------------------------------------------------------------\u001b[0m",
      "\u001b[0;31mKeyError\u001b[0m                                  Traceback (most recent call last)",
      "\u001b[0;32m<ipython-input-62-86b92a2f9ccd>\u001b[0m in \u001b[0;36m<module>\u001b[0;34m\u001b[0m\n\u001b[1;32m      7\u001b[0m     \u001b[0mresult_str\u001b[0m \u001b[0;34m=\u001b[0m \u001b[0mresult_file\u001b[0m\u001b[0;34m.\u001b[0m\u001b[0mread\u001b[0m\u001b[0;34m(\u001b[0m\u001b[0;34m)\u001b[0m\u001b[0;34m\u001b[0m\u001b[0;34m\u001b[0m\u001b[0m\n\u001b[1;32m      8\u001b[0m     \u001b[0mresult_data\u001b[0m \u001b[0;34m=\u001b[0m \u001b[0mjson\u001b[0m\u001b[0;34m.\u001b[0m\u001b[0mloads\u001b[0m\u001b[0;34m(\u001b[0m\u001b[0mresult_str\u001b[0m\u001b[0;34m)\u001b[0m\u001b[0;34m\u001b[0m\u001b[0;34m\u001b[0m\u001b[0m\n\u001b[0;32m----> 9\u001b[0;31m     \u001b[0mprint\u001b[0m\u001b[0;34m(\u001b[0m\u001b[0mresult_data\u001b[0m\u001b[0;34m[\u001b[0m\u001b[0;34m'metrics'\u001b[0m\u001b[0;34m]\u001b[0m\u001b[0;34m[\u001b[0m\u001b[0;34m'loss'\u001b[0m\u001b[0;34m]\u001b[0m\u001b[0;34m)\u001b[0m\u001b[0;34m\u001b[0m\u001b[0;34m\u001b[0m\u001b[0m\n\u001b[0m",
      "\u001b[0;31mKeyError\u001b[0m: 'loss'"
     ]
    }
   ],
   "source": [
    "configs_list = []\n",
    "val_acc_list = []\n",
    "\n",
    "for i in result_files:\n",
    "    path_res = \"bo_resnet_v1_eembc_10epoch_100maxtrials_lrdecay/\" + i + \"/trial.json\"\n",
    "    result_file = open(path_res)\n",
    "    result_str = result_file.read()\n",
    "    result_data = json.loads(result_str)\n",
    "    print(result_data['metrics']['loss'])"
   ]
  },
  {
   "cell_type": "code",
   "execution_count": 15,
   "metadata": {},
   "outputs": [
    {
     "ename": "NameError",
     "evalue": "name 'result_data' is not defined",
     "output_type": "error",
     "traceback": [
      "\u001b[0;31m---------------------------------------------------------------------------\u001b[0m",
      "\u001b[0;31mNameError\u001b[0m                                 Traceback (most recent call last)",
      "\u001b[0;32m<ipython-input-15-28f9922b021f>\u001b[0m in \u001b[0;36m<module>\u001b[0;34m\u001b[0m\n\u001b[0;32m----> 1\u001b[0;31m \u001b[0mresult_data\u001b[0m\u001b[0;34m\u001b[0m\u001b[0;34m\u001b[0m\u001b[0m\n\u001b[0m",
      "\u001b[0;31mNameError\u001b[0m: name 'result_data' is not defined"
     ]
    }
   ],
   "source": [
    "result_data"
   ]
  },
  {
   "cell_type": "code",
   "execution_count": 6,
   "metadata": {},
   "outputs": [
    {
     "data": {
      "text/plain": [
       "{'metrics': {'loss': {'direction': 'min',\n",
       "   'observations': [{'value': [2.0650532245635986], 'step': 0}]},\n",
       "  'accuracy': {'direction': 'max',\n",
       "   'observations': [{'value': [0.4221400022506714], 'step': 0}]},\n",
       "  'val_loss': {'direction': 'min',\n",
       "   'observations': [{'value': [2.000929594039917], 'step': 0}]},\n",
       "  'val_accuracy': {'direction': 'max',\n",
       "   'observations': [{'value': [0.44859999418258667], 'step': 0}]},\n",
       "  'lr': {'direction': 'min',\n",
       "   'observations': [{'value': [0.0010000000474974513], 'step': 0}]}}}"
      ]
     },
     "execution_count": 6,
     "metadata": {},
     "output_type": "execute_result"
    }
   ],
   "source": [
    "json1_data['metrics']"
   ]
  },
  {
   "cell_type": "code",
   "execution_count": 17,
   "metadata": {},
   "outputs": [],
   "source": [
    "configs = list(json1_data['hyperparameters']['values'].values())"
   ]
  },
  {
   "cell_type": "code",
   "execution_count": 18,
   "metadata": {},
   "outputs": [],
   "source": [
    "from tabulate import tabulate"
   ]
  },
  {
   "cell_type": "code",
   "execution_count": 22,
   "metadata": {},
   "outputs": [
    {
     "name": "stdout",
     "output_type": "stream",
     "text": [
      "[2, 16, 64, 3, 1, 1, 4]\n"
     ]
    }
   ],
   "source": [
    "print(configs)\n",
    "print(json1_data['metrics'][])"
   ]
  },
  {
   "cell_type": "code",
   "execution_count": null,
   "metadata": {},
   "outputs": [],
   "source": []
  }
 ],
 "metadata": {
  "kernelspec": {
   "display_name": "Python 3",
   "language": "python",
   "name": "python3"
  },
  "language_info": {
   "codemirror_mode": {
    "name": "ipython",
    "version": 3
   },
   "file_extension": ".py",
   "mimetype": "text/x-python",
   "name": "python",
   "nbconvert_exporter": "python",
   "pygments_lexer": "ipython3",
   "version": "3.7.9"
  }
 },
 "nbformat": 4,
 "nbformat_minor": 4
}
